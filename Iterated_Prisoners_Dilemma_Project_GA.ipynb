{
 "cells": [
  {
   "cell_type": "markdown",
   "metadata": {},
   "source": [
    "# Iterated Prisioners Dilemma Tournament\n",
    "\n",
    "## Group Project for COMP 3710\n",
    "\n",
    "By: Mio Tanaka, Suraiya Khanda, Samar Houssami, Ben Davidson\n",
    "\n",
    "This project uses [Jupyter Notebooks](https://jupyter.org), Python 3.7, the [Alexrod-Python](https://github.com/Axelrod-Python) and the [Axelrod-Dojo](https://github.com/Axelrod-Python/axelrod-dojo) library to run, analyize and visualise an Iterated Prisioners Dilemma Tournament and introduce machine learning strategies with finite state machines. \n",
    "\n",
    "We made some minor modifications to the dojo library to improve the reporting and output. This is most reflected in the `training_output.csv` which now records detailed information about the players used in the simulation, mutation rate, bottleneck, size of state machine and the date/time to aid in reproducing the results. "
   ]
  },
  {
   "cell_type": "markdown",
   "metadata": {},
   "source": [
    "## Import the axelrod library"
   ]
  },
  {
   "cell_type": "code",
   "execution_count": 1,
   "metadata": {
    "ExecuteTime": {
     "end_time": "2019-04-10T22:12:48.891119Z",
     "start_time": "2019-04-10T22:12:41.527874Z"
    }
   },
   "outputs": [
    {
     "name": "stdout",
     "output_type": "stream",
     "text": [
      "Run at: 2019-04-10 18:12:48\n"
     ]
    }
   ],
   "source": [
    "import axelrod as axl\n",
    "%matplotlib inline\n",
    "\n",
    "from datetime import datetime\n",
    "print(\"Run at: \" + datetime.now().strftime('%Y-%m-%d %H:%M:%S'))"
   ]
  },
  {
   "cell_type": "markdown",
   "metadata": {
    "ExecuteTime": {
     "end_time": "2019-04-10T18:24:28.328278Z",
     "start_time": "2019-04-10T18:24:28.325454Z"
    }
   },
   "source": [
    "## The parameters that we are working with"
   ]
  },
  {
   "cell_type": "raw",
   "metadata": {
    "ExecuteTime": {
     "end_time": "2019-04-10T18:24:36.841567Z",
     "start_time": "2019-04-10T18:24:36.829063Z"
    }
   },
   "source": [
    "Finite State Machine Evolver\n",
    "\n",
    "Usage:\n",
    "    fsm_evolve.py [-h] [--generations GENERATIONS] [--population POPULATION]\n",
    "    [--mu MUTATION_RATE] [--bottleneck BOTTLENECK] [--processes PROCESSORS]\n",
    "    [--output OUTPUT_FILE] [--objective OBJECTIVE] [--repetitions REPETITIONS]\n",
    "    [--turns TURNS] [--noise NOISE] [--nmoran NMORAN]\n",
    "    [--states NUM_STATES]\n",
    "\n",
    "Options:\n",
    "    -h --help                   Show help\n",
    "    --generations GENERATIONS   Generations to run the EA [default: 500]\n",
    "    --population POPULATION     Population size  [default: 40]\n",
    "    --mu MUTATION_RATE          Mutation rate [default: 0.1]\n",
    "    --bottleneck BOTTLENECK     Number of individuals to keep from each generation [default: 10]\n",
    "    --processes PROCESSES       Number of processes to use [default: 1]\n",
    "    --output OUTPUT_FILE        File to write data to [default: fsm_params.csv]\n",
    "    --objective OBJECTIVE       Objective function [default: score]\n",
    "    --repetitions REPETITIONS   Repetitions in objective [default: 100]\n",
    "    --turns TURNS               Turns in each match [default: 200]\u0010\u0010\u0010\n",
    "    --noise NOISE               Match noise [default: 0.00]\n",
    "    --nmoran NMORAN             Moran Population Size, if Moran objective [default: 4]\n",
    "    --states NUM_STATES         Number of FSM states [default: 8]"
   ]
  },
  {
   "cell_type": "markdown",
   "metadata": {},
   "source": [
    "## Import dojo"
   ]
  },
  {
   "cell_type": "code",
   "execution_count": 94,
   "metadata": {
    "ExecuteTime": {
     "end_time": "2019-04-10T22:52:43.448369Z",
     "start_time": "2019-04-10T22:52:43.443907Z"
    }
   },
   "outputs": [],
   "source": [
    "import axelrod_dojo as dojo\n",
    "objective = dojo.prepare_objective(name=\"score\", turns=10, repetitions=1)\n",
    "\n",
    "params_class = dojo.FSMParams\n",
    "# params_class = dojo.HMMParams\n",
    "params_kwargs = {\"num_states\": 8}"
   ]
  },
  {
   "cell_type": "markdown",
   "metadata": {},
   "source": [
    "## Prepare the tournament"
   ]
  },
  {
   "cell_type": "code",
   "execution_count": 95,
   "metadata": {
    "ExecuteTime": {
     "end_time": "2019-04-10T22:52:44.239147Z",
     "start_time": "2019-04-10T22:52:44.234263Z"
    },
    "scrolled": true
   },
   "outputs": [],
   "source": [
    "axl.seed(1)\n",
    "\n",
    "# players = [s() for s in axl.demo_strategies]\n",
    "# players = [axl.Alternator(), axl.Defector(), \n",
    "#            axl.TitForTat()]\n",
    "players = [axl.Cooperator(), axl.Defector(), \n",
    "           axl.TitForTat(), axl.Grudger(),\n",
    "           axl.Random(), axl.Alternator()]\n",
    "# players = [axl.TitForTat()]"
   ]
  },
  {
   "cell_type": "code",
   "execution_count": 96,
   "metadata": {
    "ExecuteTime": {
     "end_time": "2019-04-10T22:52:44.748091Z",
     "start_time": "2019-04-10T22:52:44.653099Z"
    }
   },
   "outputs": [],
   "source": [
    "population = dojo.Population (params_class=params_class,\n",
    "                              params_kwargs=params_kwargs,\n",
    "                              size = 1000, #20\n",
    "                              objective= objective,\n",
    "                              output_filename= \"training_output.csv\",\n",
    "                              opponents= players,\n",
    "                              bottleneck= 5, #2\n",
    "                              mutation_probability= 0.1, #0.1\n",
    "                              print_output= False)"
   ]
  },
  {
   "cell_type": "code",
   "execution_count": null,
   "metadata": {
    "ExecuteTime": {
     "start_time": "2019-04-10T22:52:45.063Z"
    },
    "scrolled": true
   },
   "outputs": [
    {
     "name": "stdout",
     "output_type": "stream",
     "text": [
      "Scoring Generation 1\n",
      "     → Mean score: 2.14, Root variance: 0.181\n",
      "     Generation  1 |  Best Score:  2.650000 State: 0:C:0_C_5_C:0_D_1_D:1_C_3_D:1_D_0_D:2_C_3_D:2_D_4_D:3_C_3_D:3_D_5_D:4_C_6_C:4_D_6_C:5_C_7_C:5_D_3_D:6_C_7_D:6_D_0_C:7_C_4_C:7_D_6_C\n",
      "     Generation  1 | Worst Score:  1.516667 State: 0:C:0_C_7_D:0_D_7_C:1_C_4_D:1_D_6_D:2_C_0_D:2_D_6_D:3_C_2_C:3_D_6_C:4_C_4_C:4_D_6_D:5_C_4_C:5_D_3_D:6_C_0_D:6_D_6_C:7_C_4_C:7_D_6_C\n",
      "Scoring Generation 2\n",
      "     → Mean score: 2.27, Root variance: 0.177\n",
      "     Generation  2 |  Best Score:  2.683333 State: 0:C:0_C_0_D:0_D_0_D:1_C_4_D:1_D_7_C:2_C_2_D:2_D_4_C:3_C_7_D:3_D_7_C:4_C_2_D:4_D_6_D:5_C_7_D:5_D_2_D:6_C_5_D:6_D_3_C:7_C_1_C:7_D_1_C\n",
      "     Generation  2 | Worst Score:  1.583333 State: 0:C:0_C_6_C:0_D_4_C:1_C_2_C:1_D_6_C:2_C_3_D:2_D_4_D:3_C_3_D:3_D_5_D:4_C_6_C:4_D_6_C:5_C_7_C:5_D_3_D:6_C_7_D:6_D_0_C:7_C_4_C:7_D_6_C\n",
      "Scoring Generation 3\n",
      "     → Mean score: 2.36, Root variance: 0.16\n",
      "     Generation  3 |  Best Score:  2.783333 State: 0:C:0_C_5_C:0_D_1_D:1_C_3_D:1_D_0_D:2_C_3_D:2_D_4_D:3_C_3_D:3_D_5_D:4_C_6_C:4_D_6_C:5_C_0_C:5_D_2_D:6_C_7_D:6_D_1_D:7_C_7_C:7_D_3_D\n",
      "     Generation  3 | Worst Score:  1.683333 State: 0:C:0_C_6_C:0_D_6_C:1_C_3_D:1_D_0_D:2_C_3_D:2_D_4_D:3_C_3_D:3_D_5_D:4_C_5_C:4_D_1_D:5_C_0_C:5_D_2_D:6_C_4_D:6_D_7_C:7_C_1_C:7_D_1_C\n",
      "Scoring Generation 4\n",
      "     → Mean score: 2.36, Root variance: 0.167\n",
      "     Generation  4 |  Best Score:  2.716667 State: 0:C:0_C_7_C:0_D_3_D:1_C_3_D:1_D_0_D:2_C_3_D:2_D_4_D:3_C_3_D:3_D_5_D:4_C_3_D:4_D_2_D:5_C_1_D:5_D_5_D:6_C_6_C:6_D_6_D:7_C_3_C:7_D_5_D\n",
      "     Generation  4 | Worst Score:  1.766667 State: 0:C:0_C_1_D:0_D_1_D:1_C_6_C:1_D_6_C:2_C_3_D:2_D_4_D:3_C_3_D:3_D_5_D:4_C_0_D:4_D_0_D:5_C_0_C:5_D_2_D:6_C_6_C:6_D_3_C:7_C_2_D:7_D_3_C\n",
      "Scoring Generation 5\n",
      "     → Mean score: 2.37, Root variance: 0.157\n",
      "     Generation  5 |  Best Score:  2.716667 State: 0:C:0_C_7_C:0_D_3_D:1_C_3_D:1_D_0_D:2_C_3_D:2_D_4_D:3_C_3_D:3_D_2_D:4_C_3_D:4_D_5_D:5_C_0_D:5_D_0_D:6_C_7_D:6_D_1_D:7_C_7_C:7_D_3_D\n",
      "     Generation  5 | Worst Score:  1.733333 State: 0:C:0_C_6_D:0_D_4_D:1_C_0_D:1_D_2_C:2_C_4_D:2_D_5_D:3_C_2_D:3_D_5_D:4_C_7_C:4_D_4_C:5_C_7_D:5_D_6_D:6_C_6_C:6_D_2_D:7_C_4_C:7_D_7_C\n",
      "Scoring Generation 6\n",
      "     → Mean score: 2.34, Root variance: 0.203\n",
      "     Generation  6 |  Best Score:  2.750000 State: 0:C:0_C_7_C:0_D_3_D:1_C_3_D:1_D_0_D:2_C_3_D:2_D_4_D:3_C_3_D:3_D_2_D:4_C_3_D:4_D_5_D:5_C_0_D:5_D_0_D:6_C_7_D:6_D_1_D:7_C_7_C:7_D_3_D\n",
      "     Generation  6 | Worst Score:  1.633333 State: 0:C:0_C_2_D:0_D_1_D:1_C_4_D:1_D_2_C:2_C_5_C:2_D_1_C:3_C_0_D:3_D_4_C:4_C_3_D:4_D_2_D:5_C_2_C:5_D_4_C:6_C_6_D:6_D_7_C:7_C_1_D:7_D_2_C\n",
      "Scoring Generation 7\n",
      "     → Mean score: 2.37, Root variance: 0.17\n",
      "     Generation  7 |  Best Score:  2.783333 State: 0:C:0_C_7_C:0_D_3_D:1_C_3_D:1_D_5_D:2_C_3_D:2_D_4_D:3_C_3_D:3_D_2_D:4_C_3_D:4_D_0_D:5_C_0_D:5_D_0_D:6_C_7_D:6_D_1_D:7_C_7_C:7_D_3_D\n",
      "     Generation  7 | Worst Score:  1.783333 State: 0:C:0_C_2_C:0_D_6_C:1_C_2_C:1_D_1_C:2_C_1_D:2_D_2_C:3_C_1_C:3_D_4_D:4_C_7_D:4_D_2_C:5_C_5_D:5_D_5_D:6_C_7_D:6_D_5_C:7_C_7_D:7_D_6_D\n"
     ]
    }
   ],
   "source": [
    "generations = 100 #10\n",
    "results = population.run(generations)"
   ]
  },
  {
   "cell_type": "code",
   "execution_count": null,
   "metadata": {},
   "outputs": [],
   "source": []
  }
 ],
 "metadata": {
  "kernelspec": {
   "display_name": "Python 3",
   "language": "python",
   "name": "python3"
  },
  "language_info": {
   "codemirror_mode": {
    "name": "ipython",
    "version": 3
   },
   "file_extension": ".py",
   "mimetype": "text/x-python",
   "name": "python",
   "nbconvert_exporter": "python",
   "pygments_lexer": "ipython3",
   "version": "3.7.2"
  },
  "toc": {
   "base_numbering": 1,
   "nav_menu": {},
   "number_sections": true,
   "sideBar": true,
   "skip_h1_title": false,
   "title_cell": "Table of Contents",
   "title_sidebar": "Contents",
   "toc_cell": false,
   "toc_position": {
    "height": "calc(100% - 180px)",
    "left": "10px",
    "top": "150px",
    "width": "270.796875px"
   },
   "toc_section_display": true,
   "toc_window_display": true
  },
  "varInspector": {
   "cols": {
    "lenName": 16,
    "lenType": 16,
    "lenVar": 40
   },
   "kernels_config": {
    "python": {
     "delete_cmd_postfix": "",
     "delete_cmd_prefix": "del ",
     "library": "var_list.py",
     "varRefreshCmd": "print(var_dic_list())"
    },
    "r": {
     "delete_cmd_postfix": ") ",
     "delete_cmd_prefix": "rm(",
     "library": "var_list.r",
     "varRefreshCmd": "cat(var_dic_list()) "
    }
   },
   "types_to_exclude": [
    "module",
    "function",
    "builtin_function_or_method",
    "instance",
    "_Feature"
   ],
   "window_display": false
  }
 },
 "nbformat": 4,
 "nbformat_minor": 2
}
