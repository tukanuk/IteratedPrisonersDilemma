{
 "cells": [
  {
   "cell_type": "markdown",
   "metadata": {},
   "source": [
    "# Iterated Prisioners Dilemma Tournament\n",
    "\n",
    "## Group Project for COMP 3710\n",
    "\n",
    "By: Mio Tanaka, Suraiya Khanda, Samar Houssami, Ben Davidson\n",
    "\n",
    "This project uses [Jupyter Notebooks](https://jupyter.org), Python 3.7 and the [Alexrod-Python](https://github.com/Axelrod-Python) library to run, analyise and visualise an Iterated Prisioners Dilemma Tournament"
   ]
  },
  {
   "cell_type": "markdown",
   "metadata": {},
   "source": [
    "## Import the axelrod library"
   ]
  },
  {
   "cell_type": "code",
   "execution_count": 16,
   "metadata": {
    "ExecuteTime": {
     "end_time": "2019-03-26T20:54:41.373633Z",
     "start_time": "2019-03-26T20:54:41.361743Z"
    }
   },
   "outputs": [],
   "source": [
    "import axelrod as axl\n",
    "%matplotlib inline"
   ]
  },
  {
   "cell_type": "markdown",
   "metadata": {},
   "source": [
    "## Prepare the tournament"
   ]
  },
  {
   "cell_type": "code",
   "execution_count": 30,
   "metadata": {
    "ExecuteTime": {
     "end_time": "2019-03-26T21:05:57.765788Z",
     "start_time": "2019-03-26T21:05:56.888621Z"
    },
    "scrolled": true
   },
   "outputs": [
    {
     "name": "stderr",
     "output_type": "stream",
     "text": [
      "Playing matches: 100%|██████████| 15/15 [00:00<00:00, 19.50it/s]\n",
      "Analysing: 100%|██████████| 25/25 [00:00<00:00, 150.54it/s]\n"
     ]
    }
   ],
   "source": [
    "axl.seed(0)\n",
    "\n",
    "# players = [s() for s in axl.demo_strategies]\n",
    "players = [axl.Cooperator(), axl.Defector(), \n",
    "           axl.TitForTat(), axl.Grudger(),\n",
    "           axl.Random()]\n",
    "tournament = axl.Tournament(players)\n",
    "tournament.name = 'IPDP for COMP 3710'        # set the experiment name\n",
    "tournament.turns = 200                        # set the number of turns\n",
    "tournament.repetitions = 10                   # number of times to repeat\n",
    "results = tournament.play()"
   ]
  },
  {
   "cell_type": "markdown",
   "metadata": {
    "variables": {
     "tournament.name": "IPDP for COMP 3710",
     "tournament.repetitions": "10",
     "tournament.turns": "200"
    }
   },
   "source": [
    "## Tournament \n",
    "{{tournament.name}}\n",
    "Ran for {{tournament.turns}} turns and repeated {{tournament.repetitions}} times"
   ]
  },
  {
   "cell_type": "code",
   "execution_count": 31,
   "metadata": {
    "ExecuteTime": {
     "end_time": "2019-03-26T21:05:57.802779Z",
     "start_time": "2019-03-26T21:05:57.795408Z"
    }
   },
   "outputs": [
    {
     "name": "stdout",
     "output_type": "stream",
     "text": [
      "The players were: \n",
      "['Cooperator', 'Defector', 'Tit For Tat', 'Grudger', 'Random: 0.5']\n",
      "\n",
      "Their final ranking was: \n",
      "['Defector', 'Grudger', 'Tit For Tat', 'Cooperator', 'Random: 0.5']\n"
     ]
    }
   ],
   "source": [
    "print(\"The players were: \")\n",
    "print(results.players)\n",
    "\n",
    "\n",
    "print(\"\\nTheir final ranking was: \")\n",
    "print(results.ranked_names)\n"
   ]
  },
  {
   "cell_type": "markdown",
   "metadata": {},
   "source": [
    "# Detailed Results \n",
    "\n",
    "### For each round, how many times did each strategy win?\n",
    "\n"
   ]
  },
  {
   "cell_type": "code",
   "execution_count": 32,
   "metadata": {
    "ExecuteTime": {
     "end_time": "2019-03-26T21:05:57.824021Z",
     "start_time": "2019-03-26T21:05:57.805125Z"
    }
   },
   "outputs": [
    {
     "name": "stdout",
     "output_type": "stream",
     "text": [
      "     Cooperator [0, 0, 0, 0, 0, 0, 0, 0, 0, 0]\n",
      "       Defector [4, 4, 4, 4, 4, 4, 4, 4, 4, 4]\n",
      "    Tit For Tat [0, 0, 0, 0, 0, 0, 0, 0, 0, 0]\n",
      "        Grudger [1, 1, 1, 1, 1, 1, 1, 1, 1, 1]\n",
      "    Random: 0.5 [1, 1, 2, 2, 2, 1, 1, 1, 1, 1]\n"
     ]
    }
   ],
   "source": [
    "i = 0 \n",
    "for e in results.wins:\n",
    "    print( \"{0:>15}\".format(results.players[i]) + \" \" + str(e) )\n",
    "    i += 1\n"
   ]
  },
  {
   "cell_type": "markdown",
   "metadata": {},
   "source": [
    "### For each round, what were the scores?"
   ]
  },
  {
   "cell_type": "code",
   "execution_count": 33,
   "metadata": {
    "ExecuteTime": {
     "end_time": "2019-03-26T21:05:57.880124Z",
     "start_time": "2019-03-26T21:05:57.826370Z"
    }
   },
   "outputs": [
    {
     "name": "stdout",
     "output_type": "stream",
     "text": [
      "     Cooperator  [1479, 1500, 1521, 1533, 1491, 1482, 1482, 1518, 1482, 1509]\n",
      "       Defector  [1992, 1984, 2000, 2016, 1984, 1996, 1996, 1980, 1960, 2040]\n",
      "    Tit For Tat  [1861, 1842, 1848, 1847, 1831, 1841, 1846, 1849, 1824, 1874]\n",
      "        Grudger  [1990, 2022, 1958, 1956, 1984, 2030, 1994, 1952, 2042, 2006]\n",
      "    Random: 0.5  [1491, 1452, 1456, 1446, 1459, 1453, 1467, 1463, 1452, 1463]\n"
     ]
    }
   ],
   "source": [
    "i = 0 \n",
    "for s in results.scores:\n",
    "    print(\"{0:>15} \".format(results.players[i]) + \" \" + str(s) )\n",
    "    i += 1\n"
   ]
  },
  {
   "cell_type": "markdown",
   "metadata": {},
   "source": [
    "### Okay, pretty good, now let's normalize those scores..."
   ]
  },
  {
   "cell_type": "code",
   "execution_count": 34,
   "metadata": {
    "ExecuteTime": {
     "end_time": "2019-03-26T21:05:58.423575Z",
     "start_time": "2019-03-26T21:05:57.882335Z"
    }
   },
   "outputs": [
    {
     "name": "stdout",
     "output_type": "stream",
     "text": [
      "     Cooperator [1.85, 1.88, 1.9, 1.92, 1.86, 1.85, 1.85, 1.9, 1.85, 1.89] \n",
      "       Defector [2.49, 2.48, 2.5, 2.52, 2.48, 2.49, 2.49, 2.47, 2.45, 2.55] \n",
      "    Tit For Tat [2.33, 2.3, 2.31, 2.31, 2.29, 2.3, 2.31, 2.31, 2.28, 2.34] \n",
      "        Grudger [2.49, 2.53, 2.45, 2.45, 2.48, 2.54, 2.49, 2.44, 2.55, 2.51] \n",
      "    Random: 0.5 [1.86, 1.81, 1.82, 1.81, 1.82, 1.82, 1.83, 1.83, 1.81, 1.83] \n"
     ]
    }
   ],
   "source": [
    "i = 0 \n",
    "\n",
    "for r in results.normalised_scores:\n",
    "    e = []\n",
    "    for c in r:\n",
    "        e += [ float('{0:.2f}'.format(c ))]\n",
    "    print(\"{0:>15} {1:} \".format(results.players[i], e ) )\n",
    "    i += 1\n",
    "    \n",
    "# results.normalised_scores"
   ]
  },
  {
   "cell_type": "markdown",
   "metadata": {
    "variables": {
     "results.normalised_scores[0][0]": "1.84875",
     "results.players[0]": "Cooperator"
    }
   },
   "source": [
    "This means that **{{results.players[0]}}** got, on average, a score of **{{results.normalised_scores[0][0]}}** per turn, per opponent"
   ]
  },
  {
   "cell_type": "markdown",
   "metadata": {},
   "source": [
    "## So who did well against who?"
   ]
  },
  {
   "cell_type": "code",
   "execution_count": 35,
   "metadata": {
    "ExecuteTime": {
     "end_time": "2019-03-26T21:05:58.459595Z",
     "start_time": "2019-03-26T21:05:58.439619Z"
    }
   },
   "outputs": [
    {
     "name": "stdout",
     "output_type": "stream",
     "text": [
      "Cooperator vs __________________________________________________________________________\n",
      "     Cooperator [0.0, 0.0, 0.0, 0.0, 0.0, 0.0, 0.0, 0.0, 0.0, 0.0] \n",
      "       Defector [-5.0, -5.0, -5.0, -5.0, -5.0, -5.0, -5.0, -5.0, -5.0, -5.0] \n",
      "    Tit For Tat [0.0, 0.0, 0.0, 0.0, 0.0, 0.0, 0.0, 0.0, 0.0, 0.0] \n",
      "        Grudger [0.0, 0.0, 0.0, 0.0, 0.0, 0.0, 0.0, 0.0, 0.0, 0.0] \n",
      "    Random: 0.5 [-2.67, -2.5, -2.33, -2.23, -2.58, -2.65, -2.65, -2.35, -2.65, -2.42] \n",
      "\n",
      "Defector vs ____________________________________________________________________________\n",
      "     Cooperator [5.0, 5.0, 5.0, 5.0, 5.0, 5.0, 5.0, 5.0, 5.0, 5.0] \n",
      "       Defector [0.0, 0.0, 0.0, 0.0, 0.0, 0.0, 0.0, 0.0, 0.0, 0.0] \n",
      "    Tit For Tat [0.03, 0.03, 0.03, 0.03, 0.03, 0.03, 0.03, 0.03, 0.03, 0.03] \n",
      "        Grudger [0.03, 0.03, 0.03, 0.03, 0.03, 0.03, 0.03, 0.03, 0.03, 0.03] \n",
      "    Random: 0.5 [2.4, 2.35, 2.45, 2.55, 2.35, 2.42, 2.42, 2.33, 2.2, 2.7] \n",
      "\n",
      "Tit For Tat vs _________________________________________________________________________\n",
      "     Cooperator [0.0, 0.0, 0.0, 0.0, 0.0, 0.0, 0.0, 0.0, 0.0, 0.0] \n",
      "       Defector [-0.03, -0.03, -0.03, -0.03, -0.03, -0.03, -0.03, -0.03, -0.03, -0.03] \n",
      "    Tit For Tat [0.0, 0.0, 0.0, 0.0, 0.0, 0.0, 0.0, 0.0, 0.0, 0.0] \n",
      "        Grudger [0.0, 0.0, 0.0, 0.0, 0.0, 0.0, 0.0, 0.0, 0.0, 0.0] \n",
      "    Random: 0.5 [0.0, 0.0, -0.03, -0.03, -0.03, 0.0, 0.0, 0.0, 0.0, 0.0] \n",
      "\n",
      "Grudger vs _____________________________________________________________________________\n",
      "     Cooperator [0.0, 0.0, 0.0, 0.0, 0.0, 0.0, 0.0, 0.0, 0.0, 0.0] \n",
      "       Defector [-0.03, -0.03, -0.03, -0.03, -0.03, -0.03, -0.03, -0.03, -0.03, -0.03] \n",
      "    Tit For Tat [0.0, 0.0, 0.0, 0.0, 0.0, 0.0, 0.0, 0.0, 0.0, 0.0] \n",
      "        Grudger [0.0, 0.0, 0.0, 0.0, 0.0, 0.0, 0.0, 0.0, 0.0, 0.0] \n",
      "    Random: 0.5 [2.4, 2.6, 2.23, 2.2, 2.38, 2.67, 2.45, 2.17, 2.7, 2.52] \n",
      "\n",
      "Random: 0.5 vs _________________________________________________________________________\n",
      "     Cooperator [2.67, 2.5, 2.33, 2.23, 2.58, 2.65, 2.65, 2.35, 2.65, 2.42] \n",
      "       Defector [-2.4, -2.35, -2.45, -2.55, -2.35, -2.42, -2.42, -2.33, -2.2, -2.7] \n",
      "    Tit For Tat [0.0, 0.0, 0.03, 0.03, 0.03, 0.0, 0.0, 0.0, 0.0, 0.0] \n",
      "        Grudger [-2.4, -2.6, -2.23, -2.2, -2.38, -2.67, -2.45, -2.17, -2.7, -2.52] \n",
      "    Random: 0.5 [0.0, 0.0, 0.0, 0.0, 0.0, 0.0, 0.0, 0.0, 0.0, 0.0] \n",
      "\n"
     ]
    }
   ],
   "source": [
    "player = 0 \n",
    "opponent = 0\n",
    "\n",
    "for r in results.score_diffs:\n",
    "    print(\"{:_<88}\".format(results.players[player] + \" vs \"))\n",
    "    opponent = 0\n",
    "    for opp in r:\n",
    "        e = []\n",
    "        for c in opp:\n",
    "            e += [ float('{0:2.2f}'.format(c ))]\n",
    "        print(\"{0:>15} {1:} \".format(results.players[opponent], e ) )\n",
    "        opponent += 1\n",
    "    player += 1\n",
    "    print()\n",
    "          \n",
    "# results.score_diffs"
   ]
  },
  {
   "cell_type": "markdown",
   "metadata": {},
   "source": [
    "We can see that **Cooperator** is at a big disadvantage to **Defector**. "
   ]
  },
  {
   "cell_type": "markdown",
   "metadata": {},
   "source": [
    "## When do different strategies cooperate?"
   ]
  },
  {
   "cell_type": "code",
   "execution_count": 36,
   "metadata": {
    "ExecuteTime": {
     "end_time": "2019-03-26T21:05:58.471633Z",
     "start_time": "2019-03-26T21:05:58.462116Z"
    }
   },
   "outputs": [
    {
     "name": "stdout",
     "output_type": "stream",
     "text": [
      "                 Coo  Def  Tit  Gru  Ran  \n",
      "     Cooperator [1.0, 1.0, 1.0, 1.0, 1.0] \n",
      "       Defector [0.0, 0.0, 0.0, 0.0, 0.0] \n",
      "    Tit For Tat [1.0, 0.01, 1.0, 1.0, 0.5] \n",
      "        Grudger [1.0, 0.01, 1.0, 1.0, 0.01] \n",
      "    Random: 0.5 [0.5, 0.48, 0.5, 0.5, 0.5] \n"
     ]
    }
   ],
   "source": [
    "i = 0 \n",
    "\n",
    "# Headers for the columns\n",
    "print(\"{:17}\".format(''), end ='')\n",
    "for player in results.players:\n",
    "    print(\"{:.3s} {:1}\".format(player, ''), end='')\n",
    "print()\n",
    "\n",
    "# Rows\n",
    "for r in results.normalised_cooperation:\n",
    "    e = []\n",
    "    for c in r:\n",
    "        e += [ float('{0:.2f}'.format(c ))]\n",
    "    print(\"{0:>15} {1:} \".format(results.players[i], e ) )\n",
    "    i += 1\n",
    "\n",
    "# results.normalised_cooperation"
   ]
  },
  {
   "cell_type": "markdown",
   "metadata": {},
   "source": [
    "As expected, **Cooperator** *always* cooperates. **Random: 0.5** cooperates... **50%** of the time and **Tit for Tat** cooperates when the other player does"
   ]
  },
  {
   "cell_type": "markdown",
   "metadata": {},
   "source": [
    "## Ok, taken care of, let's send the main data to a .csv file"
   ]
  },
  {
   "cell_type": "code",
   "execution_count": 37,
   "metadata": {
    "ExecuteTime": {
     "end_time": "2019-03-26T21:05:58.481959Z",
     "start_time": "2019-03-26T21:05:58.474155Z"
    }
   },
   "outputs": [],
   "source": [
    "results.write_summary('summary.csv')\n",
    "# import csv\n",
    "# with open('summary.csv', 'r') as outfile:\n",
    "#     csvreader = csv.reader(outfile)\n",
    "#     for row in csvreader:\n",
    "#         print(row)"
   ]
  },
  {
   "cell_type": "markdown",
   "metadata": {},
   "source": [
    "# Now let's visualize the results"
   ]
  },
  {
   "cell_type": "code",
   "execution_count": 54,
   "metadata": {
    "ExecuteTime": {
     "end_time": "2019-03-26T22:24:10.565291Z",
     "start_time": "2019-03-26T22:24:10.562582Z"
    }
   },
   "outputs": [],
   "source": [
    "# some extra graph options\n",
    "# import seaborn as sns\n",
    "import matplotlib.pyplot as plt"
   ]
  },
  {
   "cell_type": "code",
   "execution_count": 56,
   "metadata": {
    "ExecuteTime": {
     "end_time": "2019-03-26T22:24:24.798501Z",
     "start_time": "2019-03-26T22:24:24.794661Z"
    }
   },
   "outputs": [
    {
     "name": "stdout",
     "output_type": "stream",
     "text": [
      "<axelrod.result_set.ResultSet object at 0x12d166e48>\n"
     ]
    }
   ],
   "source": []
  },
  {
   "cell_type": "markdown",
   "metadata": {},
   "source": [
    "## Violin plot Graph\n",
    "\n",
    "The violin plot graph visualizes average scores in a way that helps us see stochastic effects. If all plyaers behave predictabilly horizontal lines will be shown. If a player behave stochastically, the random effects will be able to be visualized. The addition of a single stochastic strategy introduces stochastic effects into all results.\n",
    "\n",
    "Violin plots are similar to boxplots but they are able to show the depth of data. The curve of the shape is a kernel density estimation, that shows the distribution of of the results. \n",
    "\n",
    "Source: [Violin Plots in Seaborn](https://fcpython.com/visualisation/violin-plots-in-seaborn), [Violin Plots 101: Visualizing Distribution and Probability Density](https://mode.com/blog/violin-plot-examples)"
   ]
  },
  {
   "cell_type": "code",
   "execution_count": 58,
   "metadata": {
    "ExecuteTime": {
     "end_time": "2019-03-26T22:24:48.134989Z",
     "start_time": "2019-03-26T22:24:47.866898Z"
    }
   },
   "outputs": [
    {
     "name": "stdout",
     "output_type": "stream",
     "text": [
      "<axelrod.plot.Plot object at 0x12b9ed7b8>\n"
     ]
    },
    {
     "data": {
      "image/png": "[encoded data removed]",
      "text/plain": [
       "<Figure size 864x432 with 1 Axes>"
      ]
     },
     "metadata": {
      "needs_background": "light"
     },
     "output_type": "display_data"
    }
   ],
   "source": [
    "plot = axl.Plot(results)\n",
    "b = plot.boxplot()"
   ]
  },
  {
   "cell_type": "markdown",
   "metadata": {},
   "source": [
    "## Win plot Graph\n",
    "\n",
    "The win plot graph is "
   ]
  },
  {
   "cell_type": "code",
   "execution_count": 53,
   "metadata": {
    "ExecuteTime": {
     "end_time": "2019-03-26T22:23:20.065967Z",
     "start_time": "2019-03-26T22:23:19.811131Z"
    }
   },
   "outputs": [
    {
     "data": {
      "image/png": "[encoded data removed]",
      "text/plain": [
       "<Figure size 864x432 with 1 Axes>"
      ]
     },
     "metadata": {
      "needs_background": "light"
     },
     "output_type": "display_data"
    }
   ],
   "source": [
    "p = plot.winplot()"
   ]
  },
  {
   "cell_type": "markdown",
   "metadata": {},
   "source": [
    "## Payoff Graph\n",
    "\n",
    "The payoff graph visualizes performance against other competitors. Brighter colours represent more success. For example, bright yellow indicates that **Defector** does very well against **Cooperator** "
   ]
  },
  {
   "cell_type": "code",
   "execution_count": 40,
   "metadata": {
    "ExecuteTime": {
     "end_time": "2019-03-26T21:05:59.617479Z",
     "start_time": "2019-03-26T21:05:59.062421Z"
    }
   },
   "outputs": [
    {
     "data": {
      "image/png": "[encoded data removed]",
      "text/plain": [
       "<Figure size 864x864 with 2 Axes>"
      ]
     },
     "metadata": {
      "needs_background": "light"
     },
     "output_type": "display_data"
    }
   ],
   "source": [
    "pay = plot.payoff()"
   ]
  },
  {
   "cell_type": "markdown",
   "metadata": {},
   "source": [
    "# Finally, let's save a copy of our graphs"
   ]
  },
  {
   "cell_type": "code",
   "execution_count": 41,
   "metadata": {
    "ExecuteTime": {
     "end_time": "2019-03-26T21:06:00.446231Z",
     "start_time": "2019-03-26T21:05:59.619970Z"
    }
   },
   "outputs": [
    {
     "name": "stderr",
     "output_type": "stream",
     "text": [
      "Obtaining plots: 100%|██████████| 6/6 [00:00<00:00,  7.24it/s]\n"
     ]
    }
   ],
   "source": [
    "axl.Plot.save_all_plots(plot)"
   ]
  },
  {
   "cell_type": "code",
   "execution_count": null,
   "metadata": {},
   "outputs": [],
   "source": []
  }
 ],
 "metadata": {
  "kernelspec": {
   "display_name": "'Python Interactive'",
   "language": "python",
   "name": "66dbf27b-317d-4c37-996e-52102a8833cb"
  },
  "language_info": {
   "codemirror_mode": {
    "name": "ipython",
    "version": 3
   },
   "file_extension": ".py",
   "mimetype": "text/x-python",
   "name": "python",
   "nbconvert_exporter": "python",
   "pygments_lexer": "ipython3",
   "version": "3.7.2"
  },
  "toc": {
   "base_numbering": 1,
   "nav_menu": {},
   "number_sections": true,
   "sideBar": true,
   "skip_h1_title": false,
   "title_cell": "Table of Contents",
   "title_sidebar": "Contents",
   "toc_cell": false,
   "toc_position": {
    "height": "calc(100% - 180px)",
    "left": "10px",
    "top": "150px",
    "width": "270.796875px"
   },
   "toc_section_display": true,
   "toc_window_display": true
  }
 },
 "nbformat": 4,
 "nbformat_minor": 2
}
