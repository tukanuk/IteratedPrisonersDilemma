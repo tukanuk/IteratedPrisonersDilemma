{
 "cells": [
  {
   "cell_type": "markdown",
   "metadata": {},
   "source": [
    "# Iterated Prisioners Dilemma Tournament\n",
    "\n",
    "## Group Project for COMP 3710\n",
    "\n",
    "By: Mio Tanaka, Suraiya Khanda, Samar Houssami, Ben Davidson\n",
    "\n",
    "This project uses [Jupyter Notebooks](https://jupyter.org), Python 3.7, the [Alexrod-Python](https://github.com/Axelrod-Python) and the [Axelrod-Dojo](https://github.com/Axelrod-Python/axelrod-dojo) library to run, analyize and visualise an Iterated Prisioners Dilemma Tournament and introduce machine learning strategies with finite state machines. \n",
    "\n",
    "We made some minor modifications to the dojo library to improve the reporting and output. This is most reflected in the `training_output.csv` which now records detailed information about the players used in the simulation, mutation rate, bottleneck, size of state machine and the date/time to aid in reproducing the results. \n",
    "\n",
    "We also made minor modifications to the main Axelrod library (`player.py`) to keep strategy name short so they would display correctly in charts and graphs "
   ]
  },
  {
   "cell_type": "markdown",
   "metadata": {},
   "source": [
    "## Import the axelrod library"
   ]
  },
  {
   "cell_type": "code",
   "execution_count": 1,
   "metadata": {
    "ExecuteTime": {
     "end_time": "2019-04-11T01:00:07.933268Z",
     "start_time": "2019-04-11T00:59:59.344857Z"
    }
   },
   "outputs": [
    {
     "data": {
      "text/plain": [
       "'2019-04-10 21:00:07'"
      ]
     },
     "execution_count": 1,
     "metadata": {},
     "output_type": "execute_result"
    }
   ],
   "source": [
    "import axelrod as axl\n",
    "%matplotlib inline\n",
    "\n",
    "from datetime import datetime\n",
    "datetime.now().strftime('%Y-%m-%d %H:%M:%S')"
   ]
  },
  {
   "cell_type": "markdown",
   "metadata": {},
   "source": [
    "## Prepare our Finite State Machine created with GA"
   ]
  },
  {
   "cell_type": "markdown",
   "metadata": {},
   "source": [
    "` 0:C:0_C_0_C:0_D_2_D:1_C_2_C:1_D_2_C:2_C_2_D:2_D_0_D:3_C_5_D:3_D_6_C:4_C_0_C:4_D_2_D:5_C_6_D:5_D_1_C:6_C_6_C:6_D_5_C:7_C_2_D:7_D_3_C`\n",
    "\n",
    "Was the best FSM that was could create with IPD Evolutionary Training. Using an Axelrod Finate State Machine [Meta-Strategy](https://axelrod.readthedocs.io/en/stable/tutorials/further_topics/meta_strategies.html) we are able to import this into our tournament.\n",
    "\n",
    "Appears in charts and graphs as **FSM Player**"
   ]
  },
  {
   "cell_type": "code",
   "execution_count": 2,
   "metadata": {
    "ExecuteTime": {
     "end_time": "2019-04-11T01:00:07.948434Z",
     "start_time": "2019-04-11T01:00:07.936690Z"
    }
   },
   "outputs": [],
   "source": [
    "from axelrod import Action\n",
    "C, D = Action.C, Action.D\n",
    "MMSB_GA_Strat_transitions = (\n",
    "\t(0, C, 0, C),\n",
    "\t(0, D, 2, D),\n",
    "\t(1, C, 2, C),\n",
    "\t(1, D, 2, C),\n",
    "\t(2, C, 2, D),\n",
    "\t(2, D, 0, D),\n",
    "\t(3, C, 5, D),\n",
    "\t(3, D, 6, C),\n",
    "\t(4, C, 0, C),\n",
    "\t(4, D, 2, D),\n",
    "\t(5, C, 6, D),\n",
    "\t(5, D, 1, C),\n",
    "\t(6, C, 6, C),\n",
    "\t(6, D, 5, C),\n",
    "\t(7, C, 2, D),\n",
    "\t(7, D, 3, C)\n",
    ")\n",
    "\n",
    "from axelrod.strategies.finite_state_machines import FSMPlayer\n",
    "\n",
    "MMSB_GA_Strat = FSMPlayer(transitions=MMSB_GA_Strat_transitions,\n",
    "\tinitial_state=0, initial_action=C)"
   ]
  },
  {
   "cell_type": "markdown",
   "metadata": {},
   "source": [
    "## Prepare the tournament"
   ]
  },
  {
   "cell_type": "code",
   "execution_count": 3,
   "metadata": {
    "ExecuteTime": {
     "end_time": "2019-04-11T01:00:09.197564Z",
     "start_time": "2019-04-11T01:00:07.951355Z"
    },
    "scrolled": true
   },
   "outputs": [
    {
     "name": "stderr",
     "output_type": "stream",
     "text": [
      "Playing matches: 100%|██████████| 21/21 [00:00<00:00, 21.93it/s]\n",
      "Analysing: 100%|██████████| 25/25 [00:00<00:00, 142.96it/s]\n"
     ]
    }
   ],
   "source": [
    "axl.seed(0)\n",
    "\n",
    "# players = [s() for s in axl.demo_strategies]\n",
    "players = [axl.Cooperator(), axl.Defector(), \n",
    "           axl.TitForTat(), axl.Grudger(),\n",
    "           axl.Random(), MMSB_GA_Strat]\n",
    "tournament = axl.Tournament(players)\n",
    "tournament.name = 'IPDP for COMP 3710'      # set the experiment name\n",
    "tournament.turns = 200                      # set the number of turns\n",
    "tournament.repetitions = 10                 # number of times to repeat\n",
    "results = tournament.play()"
   ]
  },
  {
   "cell_type": "markdown",
   "metadata": {},
   "source": [
    "## Tournament \n",
    "{{tournament.name}}\n",
    "Ran for {{tournament.turns}} turns and repeated {{tournament.repetitions}} times"
   ]
  },
  {
   "cell_type": "code",
   "execution_count": 4,
   "metadata": {
    "ExecuteTime": {
     "end_time": "2019-04-11T01:00:09.230575Z",
     "start_time": "2019-04-11T01:00:09.224397Z"
    }
   },
   "outputs": [
    {
     "name": "stdout",
     "output_type": "stream",
     "text": [
      "The players were: \n",
      "['Cooperator', 'Defector', 'Tit For Tat', 'Grudger', 'Random', 'FSM Player']\n",
      "\n",
      "Their final ranking was: \n",
      "['Grudger', 'FSM Player', 'Tit For Tat', 'Defector', 'Cooperator', 'Random']\n"
     ]
    }
   ],
   "source": [
    "print(\"The players were: \")\n",
    "print(results.players)\n",
    "\n",
    "\n",
    "print(\"\\nTheir final ranking was: \")\n",
    "print(results.ranked_names)\n"
   ]
  },
  {
   "cell_type": "markdown",
   "metadata": {},
   "source": [
    "# Detailed Results \n",
    "\n",
    "### For each round, how many times did each strategy win?\n",
    "\n"
   ]
  },
  {
   "cell_type": "code",
   "execution_count": 5,
   "metadata": {
    "ExecuteTime": {
     "end_time": "2019-04-11T01:00:09.239973Z",
     "start_time": "2019-04-11T01:00:09.234321Z"
    }
   },
   "outputs": [
    {
     "name": "stdout",
     "output_type": "stream",
     "text": [
      "     Cooperator [0, 0, 0, 0, 0, 0, 0, 0, 0, 0]\n",
      "       Defector [5, 5, 5, 5, 5, 5, 5, 5, 5, 5]\n",
      "    Tit For Tat [0, 0, 0, 0, 0, 0, 0, 0, 0, 0]\n",
      "        Grudger [1, 1, 1, 1, 1, 1, 1, 1, 1, 1]\n",
      "         Random [1, 1, 2, 2, 2, 1, 1, 1, 1, 1]\n",
      "     FSM Player [1, 1, 1, 1, 1, 1, 1, 1, 1, 1]\n"
     ]
    }
   ],
   "source": [
    "i = 0 \n",
    "for e in results.wins:\n",
    "    print( \"{0:>15}\".format(results.players[i]) + \" \" + str(e) )\n",
    "    i += 1\n"
   ]
  },
  {
   "cell_type": "markdown",
   "metadata": {},
   "source": [
    "### For each round, what were the scores?"
   ]
  },
  {
   "cell_type": "code",
   "execution_count": 6,
   "metadata": {
    "ExecuteTime": {
     "end_time": "2019-04-11T01:00:09.247555Z",
     "start_time": "2019-04-11T01:00:09.242180Z"
    }
   },
   "outputs": [
    {
     "name": "stdout",
     "output_type": "stream",
     "text": [
      "     Cooperator  [2079, 2100, 2121, 2133, 2091, 2082, 2082, 2118, 2082, 2109]\n",
      "       Defector  [2196, 2188, 2204, 2220, 2188, 2200, 2200, 2184, 2164, 2244]\n",
      "    Tit For Tat  [2461, 2442, 2448, 2447, 2431, 2441, 2446, 2449, 2424, 2474]\n",
      "        Grudger  [2590, 2622, 2558, 2556, 2584, 2630, 2594, 2552, 2642, 2606]\n",
      "         Random  [1835, 1751, 1746, 1746, 1712, 1772, 1724, 1772, 1752, 1729]\n",
      "     FSM Player  [2478, 2508, 2499, 2514, 2562, 2483, 2516, 2528, 2534, 2495]\n"
     ]
    }
   ],
   "source": [
    "i = 0 \n",
    "for s in results.scores:\n",
    "    print(\"{0:>15} \".format(results.players[i]) + \" \" + str(s) )\n",
    "    i += 1\n"
   ]
  },
  {
   "cell_type": "markdown",
   "metadata": {},
   "source": [
    "### Okay, pretty good, now let's normalize those scores..."
   ]
  },
  {
   "cell_type": "code",
   "execution_count": 7,
   "metadata": {
    "ExecuteTime": {
     "end_time": "2019-04-11T01:00:09.258077Z",
     "start_time": "2019-04-11T01:00:09.249768Z"
    }
   },
   "outputs": [
    {
     "name": "stdout",
     "output_type": "stream",
     "text": [
      "     Cooperator [2.08, 2.1, 2.12, 2.13, 2.09, 2.08, 2.08, 2.12, 2.08, 2.11] \n",
      "       Defector [2.2, 2.19, 2.2, 2.22, 2.19, 2.2, 2.2, 2.18, 2.16, 2.24] \n",
      "    Tit For Tat [2.46, 2.44, 2.45, 2.45, 2.43, 2.44, 2.45, 2.45, 2.42, 2.47] \n",
      "        Grudger [2.59, 2.62, 2.56, 2.56, 2.58, 2.63, 2.59, 2.55, 2.64, 2.61] \n",
      "         Random [1.84, 1.75, 1.75, 1.75, 1.71, 1.77, 1.72, 1.77, 1.75, 1.73] \n",
      "     FSM Player [2.48, 2.51, 2.5, 2.51, 2.56, 2.48, 2.52, 2.53, 2.53, 2.5] \n"
     ]
    }
   ],
   "source": [
    "i = 0 \n",
    "\n",
    "for r in results.normalised_scores:\n",
    "    e = []\n",
    "    for c in r:\n",
    "        e += [ float('{0:.2f}'.format(c ))]\n",
    "    print(\"{0:>15} {1:} \".format(results.players[i], e ) )\n",
    "    i += 1\n",
    "    \n",
    "# results.normalised_scores"
   ]
  },
  {
   "cell_type": "markdown",
   "metadata": {},
   "source": [
    "This means that **{{results.players[0]}}** got, on average, a score of **{{results.normalised_scores[0][0]}}** per turn, per opponent"
   ]
  },
  {
   "cell_type": "markdown",
   "metadata": {},
   "source": [
    "## So who did well against who?"
   ]
  },
  {
   "cell_type": "code",
   "execution_count": 8,
   "metadata": {
    "ExecuteTime": {
     "end_time": "2019-04-11T01:00:09.290875Z",
     "start_time": "2019-04-11T01:00:09.276215Z"
    }
   },
   "outputs": [
    {
     "name": "stdout",
     "output_type": "stream",
     "text": [
      "Cooperator vs __________________________________________________________________________\n",
      "     Cooperator [0.0, 0.0, 0.0, 0.0, 0.0, 0.0, 0.0, 0.0, 0.0, 0.0] \n",
      "       Defector [-5.0, -5.0, -5.0, -5.0, -5.0, -5.0, -5.0, -5.0, -5.0, -5.0] \n",
      "    Tit For Tat [0.0, 0.0, 0.0, 0.0, 0.0, 0.0, 0.0, 0.0, 0.0, 0.0] \n",
      "        Grudger [0.0, 0.0, 0.0, 0.0, 0.0, 0.0, 0.0, 0.0, 0.0, 0.0] \n",
      "         Random [-2.67, -2.5, -2.33, -2.23, -2.58, -2.65, -2.65, -2.35, -2.65, -2.42] \n",
      "     FSM Player [0.0, 0.0, 0.0, 0.0, 0.0, 0.0, 0.0, 0.0, 0.0, 0.0] \n",
      "\n",
      "Defector vs ____________________________________________________________________________\n",
      "     Cooperator [5.0, 5.0, 5.0, 5.0, 5.0, 5.0, 5.0, 5.0, 5.0, 5.0] \n",
      "       Defector [0.0, 0.0, 0.0, 0.0, 0.0, 0.0, 0.0, 0.0, 0.0, 0.0] \n",
      "    Tit For Tat [0.03, 0.03, 0.03, 0.03, 0.03, 0.03, 0.03, 0.03, 0.03, 0.03] \n",
      "        Grudger [0.03, 0.03, 0.03, 0.03, 0.03, 0.03, 0.03, 0.03, 0.03, 0.03] \n",
      "         Random [2.4, 2.35, 2.45, 2.55, 2.35, 2.42, 2.42, 2.33, 2.2, 2.7] \n",
      "     FSM Player [0.03, 0.03, 0.03, 0.03, 0.03, 0.03, 0.03, 0.03, 0.03, 0.03] \n",
      "\n",
      "Tit For Tat vs _________________________________________________________________________\n",
      "     Cooperator [0.0, 0.0, 0.0, 0.0, 0.0, 0.0, 0.0, 0.0, 0.0, 0.0] \n",
      "       Defector [-0.03, -0.03, -0.03, -0.03, -0.03, -0.03, -0.03, -0.03, -0.03, -0.03] \n",
      "    Tit For Tat [0.0, 0.0, 0.0, 0.0, 0.0, 0.0, 0.0, 0.0, 0.0, 0.0] \n",
      "        Grudger [0.0, 0.0, 0.0, 0.0, 0.0, 0.0, 0.0, 0.0, 0.0, 0.0] \n",
      "         Random [0.0, 0.0, -0.03, -0.03, -0.03, 0.0, 0.0, 0.0, 0.0, 0.0] \n",
      "     FSM Player [0.0, 0.0, 0.0, 0.0, 0.0, 0.0, 0.0, 0.0, 0.0, 0.0] \n",
      "\n",
      "Grudger vs _____________________________________________________________________________\n",
      "     Cooperator [0.0, 0.0, 0.0, 0.0, 0.0, 0.0, 0.0, 0.0, 0.0, 0.0] \n",
      "       Defector [-0.03, -0.03, -0.03, -0.03, -0.03, -0.03, -0.03, -0.03, -0.03, -0.03] \n",
      "    Tit For Tat [0.0, 0.0, 0.0, 0.0, 0.0, 0.0, 0.0, 0.0, 0.0, 0.0] \n",
      "        Grudger [0.0, 0.0, 0.0, 0.0, 0.0, 0.0, 0.0, 0.0, 0.0, 0.0] \n",
      "         Random [2.4, 2.6, 2.23, 2.2, 2.38, 2.67, 2.45, 2.17, 2.7, 2.52] \n",
      "     FSM Player [0.0, 0.0, 0.0, 0.0, 0.0, 0.0, 0.0, 0.0, 0.0, 0.0] \n",
      "\n",
      "Random vs ______________________________________________________________________________\n",
      "     Cooperator [2.67, 2.5, 2.33, 2.23, 2.58, 2.65, 2.65, 2.35, 2.65, 2.42] \n",
      "       Defector [-2.4, -2.35, -2.45, -2.55, -2.35, -2.42, -2.42, -2.33, -2.2, -2.7] \n",
      "    Tit For Tat [0.0, 0.0, 0.03, 0.03, 0.03, 0.0, 0.0, 0.0, 0.0, 0.0] \n",
      "        Grudger [-2.4, -2.6, -2.23, -2.2, -2.38, -2.67, -2.45, -2.17, -2.7, -2.52] \n",
      "         Random [0.0, 0.0, 0.0, 0.0, 0.0, 0.0, 0.0, 0.0, 0.0, 0.0] \n",
      "     FSM Player [-0.68, -1.05, -1.05, -1.07, -1.55, -0.82, -1.3, -1.1, -1.18, -1.15] \n",
      "\n",
      "FSM Player vs __________________________________________________________________________\n",
      "     Cooperator [0.0, 0.0, 0.0, 0.0, 0.0, 0.0, 0.0, 0.0, 0.0, 0.0] \n",
      "       Defector [-0.03, -0.03, -0.03, -0.03, -0.03, -0.03, -0.03, -0.03, -0.03, -0.03] \n",
      "    Tit For Tat [0.0, 0.0, 0.0, 0.0, 0.0, 0.0, 0.0, 0.0, 0.0, 0.0] \n",
      "        Grudger [0.0, 0.0, 0.0, 0.0, 0.0, 0.0, 0.0, 0.0, 0.0, 0.0] \n",
      "         Random [0.68, 1.05, 1.05, 1.07, 1.55, 0.82, 1.3, 1.1, 1.18, 1.15] \n",
      "     FSM Player [0.0, 0.0, 0.0, 0.0, 0.0, 0.0, 0.0, 0.0, 0.0, 0.0] \n",
      "\n"
     ]
    }
   ],
   "source": [
    "player = 0 \n",
    "opponent = 0\n",
    "\n",
    "for r in results.score_diffs:\n",
    "    print(\"{:_<88}\".format(results.players[player] + \" vs \"))\n",
    "    opponent = 0\n",
    "    for opp in r:\n",
    "        e = []\n",
    "        for c in opp:\n",
    "            e += [ float('{0:2.2f}'.format(c ))]\n",
    "        print(\"{0:>15} {1:} \".format(results.players[opponent], e ) )\n",
    "        opponent += 1\n",
    "    player += 1\n",
    "    print()\n",
    "          \n",
    "# results.score_diffs"
   ]
  },
  {
   "cell_type": "markdown",
   "metadata": {
    "hide_input": true
   },
   "source": [
    "### Take aways\n",
    "\n",
    "- We can see that **Cooperator** is at a big disadvantage to **Defector**. \n",
    "- **Defector** does very well against **Cooperator** and **Random** and is the only strategy will all positive scores. \n",
    "- **FSM Player** (Our FSM) is very similar to **Tit-for-tat**. It performs better again random though."
   ]
  },
  {
   "cell_type": "markdown",
   "metadata": {},
   "source": [
    "## When do different strategies cooperate?"
   ]
  },
  {
   "cell_type": "code",
   "execution_count": 9,
   "metadata": {
    "ExecuteTime": {
     "end_time": "2019-04-11T01:00:09.304481Z",
     "start_time": "2019-04-11T01:00:09.293437Z"
    }
   },
   "outputs": [
    {
     "name": "stdout",
     "output_type": "stream",
     "text": [
      "                 Coo  Def  Tit  Gru  Ran  FSM  \n",
      "     Cooperator [1.0, 1.0, 1.0, 1.0, 1.0, 1.0] \n",
      "       Defector [0.0, 0.0, 0.0, 0.0, 0.0, 0.0] \n",
      "    Tit For Tat [1.0, 0.01, 1.0, 1.0, 0.5, 1.0] \n",
      "        Grudger [1.0, 0.01, 1.0, 1.0, 0.01, 1.0] \n",
      "         Random [0.5, 0.48, 0.5, 0.5, 0.5, 0.5] \n",
      "     FSM Player [1.0, 0.01, 1.0, 1.0, 0.28, 1.0] \n"
     ]
    }
   ],
   "source": [
    "i = 0 \n",
    "\n",
    "# Headers for the columns\n",
    "print(\"{:17}\".format(''), end ='')\n",
    "for player in results.players:\n",
    "    print(\"{:.3s} {:1}\".format(player, ''), end='')\n",
    "print()\n",
    "\n",
    "# Rows\n",
    "for r in results.normalised_cooperation:\n",
    "    e = []\n",
    "    for c in r:\n",
    "        e += [ float('{0:.2f}'.format(c ))]\n",
    "    print(\"{0:>15} {1:} \".format(results.players[i], e ) )\n",
    "    i += 1\n",
    "\n",
    "# results.normalised_cooperation"
   ]
  },
  {
   "cell_type": "markdown",
   "metadata": {},
   "source": [
    "- As expected, **Cooperator** *always* cooperates. \n",
    "- **Random: 0.5** cooperates... **50%** of the time\n",
    "- **Tit for Tat** cooperates when the other player does.\n",
    "- **FSM Player** (our FSM) cooperates like Tit-for-Tat except in learns it's lesson against Random and doesn't cooperate as oftern."
   ]
  },
  {
   "cell_type": "markdown",
   "metadata": {},
   "source": [
    "## Ok, taken care of, let's send the main data to a .csv file"
   ]
  },
  {
   "cell_type": "code",
   "execution_count": 10,
   "metadata": {
    "ExecuteTime": {
     "end_time": "2019-04-11T01:00:09.313823Z",
     "start_time": "2019-04-11T01:00:09.306838Z"
    }
   },
   "outputs": [],
   "source": [
    "results.write_summary('results/summary.csv')\n",
    "# import csv\n",
    "# with open('summary.csv', 'r') as outfile:\n",
    "#     csvreader = csv.reader(outfile)\n",
    "#     for row in csvreader:\n",
    "#         print(row)"
   ]
  },
  {
   "cell_type": "markdown",
   "metadata": {},
   "source": [
    "# Now let's visualize the results"
   ]
  },
  {
   "cell_type": "code",
   "execution_count": 11,
   "metadata": {
    "ExecuteTime": {
     "end_time": "2019-04-11T01:00:09.318884Z",
     "start_time": "2019-04-11T01:00:09.316056Z"
    }
   },
   "outputs": [],
   "source": [
    "# some extra graph options\n",
    "# import seaborn as sns\n",
    "import matplotlib.pyplot as plt"
   ]
  },
  {
   "cell_type": "markdown",
   "metadata": {},
   "source": [
    "## Violin plot Graph\n",
    "\n",
    "The violin plot graph visualizes average scores in a way that helps us see stochastic effects. If all plyaers behave predictabilly horizontal lines will be shown. If a player behave stochastically, the random effects will be able to be visualized. The addition of a single stochastic strategy introduces stochastic effects into all results.\n",
    "\n",
    "Violin plots are similar to boxplots but they are able to show the depth of data. The curve of the shape is a kernel density estimation, that shows the distribution of of the results. \n",
    "\n",
    "Source: [Violin Plots in Seaborn](https://fcpython.com/visualisation/violin-plots-in-seaborn), [Violin Plots 101: Visualizing Distribution and Probability Density](https://mode.com/blog/violin-plot-examples)"
   ]
  },
  {
   "cell_type": "code",
   "execution_count": 12,
   "metadata": {
    "ExecuteTime": {
     "end_time": "2019-04-11T01:00:09.957253Z",
     "start_time": "2019-04-11T01:00:09.321240Z"
    }
   },
   "outputs": [
    {
     "data": {
      "image/png": "[encoded data removed]",
      "text/plain": [
       "<Figure size 864x432 with 1 Axes>"
      ]
     },
     "metadata": {
      "needs_background": "light"
     },
     "output_type": "display_data"
    }
   ],
   "source": [
    "plot = axl.Plot(results)\n",
    "b = plot.boxplot()"
   ]
  },
  {
   "cell_type": "markdown",
   "metadata": {},
   "source": [
    "## Win plot Graph\n",
    "\n",
    "The win plot graph is... "
   ]
  },
  {
   "cell_type": "code",
   "execution_count": 13,
   "metadata": {
    "ExecuteTime": {
     "end_time": "2019-04-11T01:00:10.225070Z",
     "start_time": "2019-04-11T01:00:09.959099Z"
    }
   },
   "outputs": [
    {
     "data": {
      "image/png": "[encoded data removed]",
      "text/plain": [
       "<Figure size 864x432 with 1 Axes>"
      ]
     },
     "metadata": {
      "needs_background": "light"
     },
     "output_type": "display_data"
    }
   ],
   "source": [
    "p = plot.winplot()"
   ]
  },
  {
   "cell_type": "markdown",
   "metadata": {},
   "source": [
    "## Payoff Graph\n",
    "\n",
    "The payoff graph visualizes performance against other competitors. Brighter colours represent more success. For example, bright yellow indicates that **Defector** does very well against **Cooperator** "
   ]
  },
  {
   "cell_type": "code",
   "execution_count": 14,
   "metadata": {
    "ExecuteTime": {
     "end_time": "2019-04-11T01:00:10.739664Z",
     "start_time": "2019-04-11T01:00:10.227036Z"
    }
   },
   "outputs": [
    {
     "data": {
      "image/png": "[encoded data removed]",
      "text/plain": [
       "<Figure size 864x864 with 2 Axes>"
      ]
     },
     "metadata": {
      "needs_background": "light"
     },
     "output_type": "display_data"
    }
   ],
   "source": [
    "pay = plot.payoff()"
   ]
  },
  {
   "cell_type": "markdown",
   "metadata": {},
   "source": [
    "# Finally, let's save a copy of our graphs"
   ]
  },
  {
   "cell_type": "code",
   "execution_count": 15,
   "metadata": {
    "ExecuteTime": {
     "end_time": "2019-04-11T01:00:11.613660Z",
     "start_time": "2019-04-11T01:00:10.742615Z"
    }
   },
   "outputs": [
    {
     "name": "stderr",
     "output_type": "stream",
     "text": [
      "Obtaining plots: 100%|██████████| 6/6 [00:00<00:00,  6.87it/s]\n"
     ]
    }
   ],
   "source": [
    "axl.Plot.save_all_plots(plot)"
   ]
  },
  {
   "cell_type": "code",
   "execution_count": null,
   "metadata": {},
   "outputs": [],
   "source": []
  }
 ],
 "metadata": {
  "kernelspec": {
   "display_name": "Python 3",
   "language": "python",
   "name": "python3"
  },
  "language_info": {
   "codemirror_mode": {
    "name": "ipython",
    "version": 3
   },
   "file_extension": ".py",
   "mimetype": "text/x-python",
   "name": "python",
   "nbconvert_exporter": "python",
   "pygments_lexer": "ipython3",
   "version": "3.7.2"
  },
  "toc": {
   "base_numbering": 1,
   "nav_menu": {},
   "number_sections": true,
   "sideBar": true,
   "skip_h1_title": false,
   "title_cell": "Table of Contents",
   "title_sidebar": "Contents",
   "toc_cell": false,
   "toc_position": {
    "height": "calc(100% - 180px)",
    "left": "10px",
    "top": "150px",
    "width": "270.796875px"
   },
   "toc_section_display": true,
   "toc_window_display": true
  },
  "varInspector": {
   "cols": {
    "lenName": 16,
    "lenType": 16,
    "lenVar": 40
   },
   "kernels_config": {
    "python": {
     "delete_cmd_postfix": "",
     "delete_cmd_prefix": "del ",
     "library": "var_list.py",
     "varRefreshCmd": "print(var_dic_list())"
    },
    "r": {
     "delete_cmd_postfix": ") ",
     "delete_cmd_prefix": "rm(",
     "library": "var_list.r",
     "varRefreshCmd": "cat(var_dic_list()) "
    }
   },
   "types_to_exclude": [
    "module",
    "function",
    "builtin_function_or_method",
    "instance",
    "_Feature"
   ],
   "window_display": false
  }
 },
 "nbformat": 4,
 "nbformat_minor": 2
}
