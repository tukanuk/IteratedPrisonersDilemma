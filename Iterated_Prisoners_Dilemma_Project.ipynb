{
 "cells": [
  {
   "cell_type": "markdown",
   "metadata": {},
   "source": [
    "# Iterated Prisioners Dilemma Tournament\n",
    "\n",
    "Using the [Alexrod-Python](https://github.com/Axelrod-Python) library\n",
    "\n",
    "Group Project for COMP 3710\n",
    "\n",
    "By: Mio Tanaka, Suraiya Khanda, Samar Houssami, Ben Davidson"
   ]
  },
  {
   "cell_type": "markdown",
   "metadata": {},
   "source": [
    "## Import the axelrod library"
   ]
  },
  {
   "cell_type": "code",
   "execution_count": 83,
   "metadata": {},
   "outputs": [],
   "source": [
    "import axelrod as axl\n",
    "%matplotlib inline"
   ]
  },
  {
   "cell_type": "markdown",
   "metadata": {},
   "source": [
    "## Prepare the tournament"
   ]
  },
  {
   "cell_type": "code",
   "execution_count": 84,
   "metadata": {
    "scrolled": true
   },
   "outputs": [
    {
     "name": "stderr",
     "output_type": "stream",
     "text": [
      "Playing matches: 100%|██████████| 10/10 [00:00<00:00, 17.11it/s]\n",
      "Analysing: 100%|██████████| 25/25 [00:00<00:00, 64.08it/s]\n"
     ]
    }
   ],
   "source": [
    "axl.seed(0)\n",
    "\n",
    "# players = [s() for s in axl.demo_strategies]\n",
    "players = [axl.Cooperator(), axl.Defector(), \n",
    "           axl.TitForTat(), axl.Grudger()]\n",
    "tournament = axl.Tournament(players)\n",
    "tournament.name = 'IPDP for COMP 3710'\n",
    "tournament.turns = 200                        # set the number of turns\n",
    "tournament.repetitions = 10                   # number of times to repeat\n",
    "results = tournament.play()"
   ]
  },
  {
   "cell_type": "markdown",
   "metadata": {
    "variables": {
     "tournament.name": "IPDP for COMP 3710",
     "tournament.repetitions": "10",
     "tournament.turns": "200"
    }
   },
   "source": [
    "## Tournament '{{tournament.name}}' \n",
    "Ran for {{tournament.turns}} turns and repeated {{tournament.repetitions}} times"
   ]
  },
  {
   "cell_type": "code",
   "execution_count": 85,
   "metadata": {},
   "outputs": [
    {
     "name": "stdout",
     "output_type": "stream",
     "text": [
      "The players were: \n",
      "['Cooperator', 'Defector', 'Tit For Tat', 'Grudger']\n",
      "\n",
      "Their final ranking was: \n",
      "['Defector', 'Tit For Tat', 'Grudger', 'Cooperator']\n"
     ]
    }
   ],
   "source": [
    "print(\"The players were: \")\n",
    "print(results.players)\n",
    "\n",
    "\n",
    "print(\"\\nTheir final ranking was: \")\n",
    "print(results.ranked_names)\n"
   ]
  },
  {
   "cell_type": "markdown",
   "metadata": {},
   "source": [
    "## Detailed Results \n",
    "\n",
    "### For each round, how many times did each strategy win?\n",
    "\n"
   ]
  },
  {
   "cell_type": "code",
   "execution_count": 86,
   "metadata": {},
   "outputs": [
    {
     "name": "stdout",
     "output_type": "stream",
     "text": [
      "     Cooperator [0, 0, 0, 0, 0, 0, 0, 0, 0, 0]\n",
      "       Defector [3, 3, 3, 3, 3, 3, 3, 3, 3, 3]\n",
      "    Tit For Tat [0, 0, 0, 0, 0, 0, 0, 0, 0, 0]\n",
      "        Grudger [0, 0, 0, 0, 0, 0, 0, 0, 0, 0]\n"
     ]
    }
   ],
   "source": [
    "i = 0 \n",
    "for e in results.wins:\n",
    "    print( \"{0:>15}\".format(results.players[i]) + \" \" + str(e) )\n",
    "    i += 1\n"
   ]
  },
  {
   "cell_type": "markdown",
   "metadata": {},
   "source": [
    "### For each round, what were the scores?"
   ]
  },
  {
   "cell_type": "code",
   "execution_count": 87,
   "metadata": {},
   "outputs": [
    {
     "name": "stdout",
     "output_type": "stream",
     "text": [
      "     Cooperator  [1200, 1200, 1200, 1200, 1200, 1200, 1200, 1200, 1200, 1200]\n",
      "       Defector  [1408, 1408, 1408, 1408, 1408, 1408, 1408, 1408, 1408, 1408]\n",
      "    Tit For Tat  [1399, 1399, 1399, 1399, 1399, 1399, 1399, 1399, 1399, 1399]\n",
      "        Grudger  [1399, 1399, 1399, 1399, 1399, 1399, 1399, 1399, 1399, 1399]\n"
     ]
    }
   ],
   "source": [
    "i = 0 \n",
    "for s in results.scores:\n",
    "    print(\"{0:>15} \".format(results.players[i]) + \" \" + str(s) )\n",
    "    i += 1\n"
   ]
  },
  {
   "cell_type": "markdown",
   "metadata": {},
   "source": [
    "### Okay, pretty good, now let's normalize those scores..."
   ]
  },
  {
   "cell_type": "code",
   "execution_count": 88,
   "metadata": {},
   "outputs": [
    {
     "name": "stdout",
     "output_type": "stream",
     "text": [
      "     Cooperator [2.0, 2.0, 2.0, 2.0, 2.0, 2.0, 2.0, 2.0, 2.0, 2.0] \n",
      "       Defector [2.35, 2.35, 2.35, 2.35, 2.35, 2.35, 2.35, 2.35, 2.35, 2.35] \n",
      "    Tit For Tat [2.33, 2.33, 2.33, 2.33, 2.33, 2.33, 2.33, 2.33, 2.33, 2.33] \n",
      "        Grudger [2.33, 2.33, 2.33, 2.33, 2.33, 2.33, 2.33, 2.33, 2.33, 2.33] \n"
     ]
    }
   ],
   "source": [
    "i = 0 \n",
    "\n",
    "for r in results.normalised_scores:\n",
    "    e = []\n",
    "    for c in r:\n",
    "        e += [ float('{0:.2f}'.format(c ))]\n",
    "    print(\"{0:>15} {1:} \".format(results.players[i], e ) )\n",
    "    i += 1\n",
    "    \n",
    "# results.normalised_scores"
   ]
  },
  {
   "cell_type": "markdown",
   "metadata": {
    "variables": {
     "results.normalised_scores[0][0]": "2.0",
     "results.players[0]": "Cooperator"
    }
   },
   "source": [
    "This means that **{{results.players[0]}}** got, on average, a score of **{{results.normalised_scores[0][0]}}** per turn, per opponent"
   ]
  },
  {
   "cell_type": "markdown",
   "metadata": {},
   "source": [
    "## So who did well against who?"
   ]
  },
  {
   "cell_type": "code",
   "execution_count": 89,
   "metadata": {},
   "outputs": [
    {
     "name": "stdout",
     "output_type": "stream",
     "text": [
      "Cooperator vs __________________________________________________________________________\n",
      "     Cooperator [0.0, 0.0, 0.0, 0.0, 0.0, 0.0, 0.0, 0.0, 0.0, 0.0] \n",
      "       Defector [-5.0, -5.0, -5.0, -5.0, -5.0, -5.0, -5.0, -5.0, -5.0, -5.0] \n",
      "    Tit For Tat [0.0, 0.0, 0.0, 0.0, 0.0, 0.0, 0.0, 0.0, 0.0, 0.0] \n",
      "        Grudger [0.0, 0.0, 0.0, 0.0, 0.0, 0.0, 0.0, 0.0, 0.0, 0.0] \n",
      "\n",
      "Defector vs ____________________________________________________________________________\n",
      "     Cooperator [5.0, 5.0, 5.0, 5.0, 5.0, 5.0, 5.0, 5.0, 5.0, 5.0] \n",
      "       Defector [0.0, 0.0, 0.0, 0.0, 0.0, 0.0, 0.0, 0.0, 0.0, 0.0] \n",
      "    Tit For Tat [0.03, 0.03, 0.03, 0.03, 0.03, 0.03, 0.03, 0.03, 0.03, 0.03] \n",
      "        Grudger [0.03, 0.03, 0.03, 0.03, 0.03, 0.03, 0.03, 0.03, 0.03, 0.03] \n",
      "\n",
      "Tit For Tat vs _________________________________________________________________________\n",
      "     Cooperator [0.0, 0.0, 0.0, 0.0, 0.0, 0.0, 0.0, 0.0, 0.0, 0.0] \n",
      "       Defector [-0.03, -0.03, -0.03, -0.03, -0.03, -0.03, -0.03, -0.03, -0.03, -0.03] \n",
      "    Tit For Tat [0.0, 0.0, 0.0, 0.0, 0.0, 0.0, 0.0, 0.0, 0.0, 0.0] \n",
      "        Grudger [0.0, 0.0, 0.0, 0.0, 0.0, 0.0, 0.0, 0.0, 0.0, 0.0] \n",
      "\n",
      "Grudger vs _____________________________________________________________________________\n",
      "     Cooperator [0.0, 0.0, 0.0, 0.0, 0.0, 0.0, 0.0, 0.0, 0.0, 0.0] \n",
      "       Defector [-0.03, -0.03, -0.03, -0.03, -0.03, -0.03, -0.03, -0.03, -0.03, -0.03] \n",
      "    Tit For Tat [0.0, 0.0, 0.0, 0.0, 0.0, 0.0, 0.0, 0.0, 0.0, 0.0] \n",
      "        Grudger [0.0, 0.0, 0.0, 0.0, 0.0, 0.0, 0.0, 0.0, 0.0, 0.0] \n",
      "\n"
     ]
    }
   ],
   "source": [
    "player = 0 \n",
    "opponent = 0\n",
    "\n",
    "for r in results.score_diffs:\n",
    "    print(\"{:_<88}\".format(results.players[player] + \" vs \"))\n",
    "    opponent = 0\n",
    "    for opp in r:\n",
    "        e = []\n",
    "        for c in opp:\n",
    "            e += [ float('{0:2.2f}'.format(c ))]\n",
    "        print(\"{0:>15} {1:} \".format(results.players[opponent], e ) )\n",
    "        opponent += 1\n",
    "    player += 1\n",
    "    print()\n",
    "          \n",
    "# results.score_diffs"
   ]
  },
  {
   "cell_type": "markdown",
   "metadata": {},
   "source": [
    "We can see that **Cooperator** is at a big disadvantage to **Defector**. "
   ]
  },
  {
   "cell_type": "markdown",
   "metadata": {},
   "source": [
    "## When do different strategies cooperate?"
   ]
  },
  {
   "cell_type": "code",
   "execution_count": 90,
   "metadata": {},
   "outputs": [
    {
     "name": "stdout",
     "output_type": "stream",
     "text": [
      "                 Coo  Def  Tit  Gru  \n",
      "     Cooperator [1.0, 1.0, 1.0, 1.0] \n",
      "       Defector [0.0, 0.0, 0.0, 0.0] \n",
      "    Tit For Tat [1.0, 0.01, 1.0, 1.0] \n",
      "        Grudger [1.0, 0.01, 1.0, 1.0] \n"
     ]
    }
   ],
   "source": [
    "i = 0 \n",
    "\n",
    "# Headers for the columns\n",
    "print(\"{:17}\".format(''), end ='')\n",
    "for player in results.players:\n",
    "    print(\"{:.3s} {:1}\".format(player, ''), end='')\n",
    "print()\n",
    "\n",
    "# Rows\n",
    "for r in results.normalised_cooperation:\n",
    "    e = []\n",
    "    for c in r:\n",
    "        e += [ float('{0:.2f}'.format(c ))]\n",
    "    print(\"{0:>15} {1:} \".format(results.players[i], e ) )\n",
    "    i += 1\n",
    "\n",
    "# results.normalised_cooperation"
   ]
  },
  {
   "cell_type": "markdown",
   "metadata": {},
   "source": [
    "## Let's send the main data to a .csv file"
   ]
  },
  {
   "cell_type": "code",
   "execution_count": 91,
   "metadata": {},
   "outputs": [],
   "source": [
    "results.write_summary('summary.csv')\n",
    "# import csv\n",
    "# with open('summary.csv', 'r') as outfile:\n",
    "#     csvreader = csv.reader(outfile)\n",
    "#     for row in csvreader:\n",
    "#         print(row)"
   ]
  },
  {
   "cell_type": "markdown",
   "metadata": {},
   "source": [
    "# Now let's visualize the results"
   ]
  },
  {
   "cell_type": "code",
   "execution_count": 92,
   "metadata": {},
   "outputs": [
    {
     "data": {
      "image/png": "[encoded data removed]",
      "text/plain": [
       "<Figure size 864x432 with 1 Axes>"
      ]
     },
     "metadata": {
      "needs_background": "light"
     },
     "output_type": "display_data"
    }
   ],
   "source": [
    "plot = axl.Plot(results)\n",
    "b = plot.boxplot()"
   ]
  },
  {
   "cell_type": "code",
   "execution_count": 93,
   "metadata": {},
   "outputs": [
    {
     "data": {
      "image/png": "[encoded data removed]",
      "text/plain": [
       "<Figure size 864x432 with 1 Axes>"
      ]
     },
     "metadata": {
      "needs_background": "light"
     },
     "output_type": "display_data"
    }
   ],
   "source": [
    "p = plot.winplot()"
   ]
  },
  {
   "cell_type": "code",
   "execution_count": 94,
   "metadata": {},
   "outputs": [
    {
     "data": {
      "image/png": "[encoded data removed]",
      "text/plain": [
       "<Figure size 864x864 with 2 Axes>"
      ]
     },
     "metadata": {
      "needs_background": "light"
     },
     "output_type": "display_data"
    }
   ],
   "source": [
    "pay = plot.payoff()"
   ]
  },
  {
   "cell_type": "markdown",
   "metadata": {},
   "source": [
    "# Finally, let's save a copy of our graphs"
   ]
  },
  {
   "cell_type": "code",
   "execution_count": 95,
   "metadata": {},
   "outputs": [
    {
     "name": "stderr",
     "output_type": "stream",
     "text": [
      "Obtaining plots: 100%|██████████| 6/6 [00:01<00:00,  4.02it/s]\n"
     ]
    }
   ],
   "source": [
    "axl.Plot.save_all_plots(plot)"
   ]
  },
  {
   "cell_type": "code",
   "execution_count": null,
   "metadata": {},
   "outputs": [],
   "source": []
  }
 ],
 "metadata": {
  "kernelspec": {
   "display_name": "Python 3",
   "language": "python",
   "name": "python3"
  },
  "language_info": {
   "codemirror_mode": {
    "name": "ipython",
    "version": 3
   },
   "file_extension": ".py",
   "mimetype": "text/x-python",
   "name": "python",
   "nbconvert_exporter": "python",
   "pygments_lexer": "ipython3",
   "version": "3.7.2"
  }
 },
 "nbformat": 4,
 "nbformat_minor": 2
}
