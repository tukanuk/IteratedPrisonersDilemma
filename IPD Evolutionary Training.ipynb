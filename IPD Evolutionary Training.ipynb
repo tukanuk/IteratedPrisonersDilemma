{
 "cells": [
  {
   "cell_type": "markdown",
   "metadata": {},
   "source": [
    "# IPD Evolutionary Training \n",
    "\n",
    "## Group Project for COMP 3710\n",
    "\n",
    "By: Mio Tanaka, Suraiya Khanda, Samar Houssami, Ben Davidson\n",
    "\n",
    "This project uses [Jupyter Notebooks](https://jupyter.org), Python 3.7, the [Alexrod-Python](https://github.com/Axelrod-Python) and the [Axelrod-Dojo](https://github.com/Axelrod-Python/axelrod-dojo) library to run, analyize and visualise an Iterated Prisioners Dilemma Tournament and introduce machine learning strategies with finite state machines. \n",
    "\n",
    "We made some minor modifications to the dojo library to improve the reporting and output. This is most reflected in the `training_output.csv` which now records detailed information about the players used in the simulation, mutation rate, bottleneck, size of state machine and the date/time to aid in reproducing the results. \n",
    "\n",
    "\n",
    "We also made minor modifications to the main Axelrod library (`player.py`) to keep strategy name short so they would display correctly in charts and graphs "
   ]
  },
  {
   "cell_type": "code",
   "execution_count": 44,
   "metadata": {
    "ExecuteTime": {
     "end_time": "2019-04-11T00:55:48.615146Z",
     "start_time": "2019-04-11T00:55:48.611714Z"
    }
   },
   "outputs": [],
   "source": [
    "# import IPython\n",
    "# from IPython.core.display import display, HTML\n",
    "# display(HTML(\"<style>.container { width:100% !important; }</style>\"))"
   ]
  },
  {
   "cell_type": "markdown",
   "metadata": {
    "ExecuteTime": {
     "end_time": "2019-04-11T00:56:40.799550Z",
     "start_time": "2019-04-11T00:56:40.794725Z"
    }
   },
   "source": [
    "If you are doing serious testing uncomment this block and widen your browser to see the full output and retain clean line breaks"
   ]
  },
  {
   "cell_type": "markdown",
   "metadata": {},
   "source": [
    "## Import the axelrod library"
   ]
  },
  {
   "cell_type": "code",
   "execution_count": 39,
   "metadata": {
    "ExecuteTime": {
     "end_time": "2019-04-10T23:24:48.660817Z",
     "start_time": "2019-04-10T23:24:48.646052Z"
    }
   },
   "outputs": [
    {
     "name": "stdout",
     "output_type": "stream",
     "text": [
      "Run at: 2019-04-10 19:24:48\n"
     ]
    }
   ],
   "source": [
    "import axelrod as axl\n",
    "%matplotlib inline\n",
    "\n",
    "from datetime import datetime\n",
    "print(\"Run at: \" + datetime.now().strftime('%Y-%m-%d %H:%M:%S'))"
   ]
  },
  {
   "cell_type": "markdown",
   "metadata": {
    "ExecuteTime": {
     "end_time": "2019-04-10T18:24:28.328278Z",
     "start_time": "2019-04-10T18:24:28.325454Z"
    }
   },
   "source": [
    "## The parameters that we are working with"
   ]
  },
  {
   "cell_type": "raw",
   "metadata": {
    "ExecuteTime": {
     "end_time": "2019-04-10T18:24:36.841567Z",
     "start_time": "2019-04-10T18:24:36.829063Z"
    }
   },
   "source": [
    "Finite State Machine Evolver\n",
    "\n",
    "Usage:\n",
    "    fsm_evolve.py [-h] [--generations GENERATIONS] [--population POPULATION]\n",
    "    [--mu MUTATION_RATE] [--bottleneck BOTTLENECK] [--processes PROCESSORS]\n",
    "    [--output OUTPUT_FILE] [--objective OBJECTIVE] [--repetitions REPETITIONS]\n",
    "    [--turns TURNS] [--noise NOISE] [--nmoran NMORAN]\n",
    "    [--states NUM_STATES]\n",
    "\n",
    "Options:\n",
    "    -h --help                   Show help\n",
    "    --generations GENERATIONS   Generations to run the EA [default: 500]\n",
    "    --population POPULATION     Population size  [default: 40]\n",
    "    --mu MUTATION_RATE          Mutation rate [default: 0.1]\n",
    "    --bottleneck BOTTLENECK     Number of individuals to keep from each generation [default: 10]\n",
    "    --processes PROCESSES       Number of processes to use [default: 1]\n",
    "    --output OUTPUT_FILE        File to write data to [default: fsm_params.csv]\n",
    "    --objective OBJECTIVE       Objective function [default: score]\n",
    "    --repetitions REPETITIONS   Repetitions in objective [default: 100]\n",
    "    --turns TURNS               Turns in each match [default: 200]\u0010\u0010\u0010\n",
    "    --noise NOISE               Match noise [default: 0.00]\n",
    "    --nmoran NMORAN             Moran Population Size, if Moran objective [default: 4]\n",
    "    --states NUM_STATES         Number of FSM states [default: 8]"
   ]
  },
  {
   "cell_type": "markdown",
   "metadata": {},
   "source": [
    "## Import dojo"
   ]
  },
  {
   "cell_type": "code",
   "execution_count": 43,
   "metadata": {
    "ExecuteTime": {
     "end_time": "2019-04-11T00:54:00.582410Z",
     "start_time": "2019-04-11T00:54:00.571125Z"
    }
   },
   "outputs": [],
   "source": [
    "import axelrod_dojo as dojo\n",
    "objective = dojo.prepare_objective(name=\"score\", turns=10, repetitions=1)\n",
    "\n",
    "params_class = dojo.FSMParams\n",
    "# params_class = dojo.HMMParams\n",
    "params_kwargs = {\"num_states\": 2}"
   ]
  },
  {
   "cell_type": "markdown",
   "metadata": {},
   "source": [
    "In this example we use a small number of states (2). This allows the output to fit nicely onscreen. The output to `training_output.csv` is unaffected. "
   ]
  },
  {
   "cell_type": "markdown",
   "metadata": {},
   "source": [
    "## Prepare the tournament"
   ]
  },
  {
   "cell_type": "code",
   "execution_count": 41,
   "metadata": {
    "ExecuteTime": {
     "end_time": "2019-04-10T23:24:51.914546Z",
     "start_time": "2019-04-10T23:24:51.909765Z"
    },
    "scrolled": true
   },
   "outputs": [],
   "source": [
    "axl.seed(1)\n",
    "\n",
    "# players = [s() for s in axl.demo_strategies]\n",
    "# players = [axl.Alternator(), axl.Defector(), \n",
    "#            axl.TitForTat()]\n",
    "players = [axl.Cooperator(), axl.Defector(), \n",
    "           axl.TitForTat(), axl.Grudger(),\n",
    "           axl.Random(), axl.Alternator()]\n",
    "# players = [axl.TitForTat()]"
   ]
  },
  {
   "cell_type": "code",
   "execution_count": 42,
   "metadata": {
    "ExecuteTime": {
     "end_time": "2019-04-10T23:24:52.487811Z",
     "start_time": "2019-04-10T23:24:52.470545Z"
    }
   },
   "outputs": [],
   "source": [
    "population = dojo.Population (params_class=params_class,\n",
    "                              params_kwargs=params_kwargs,\n",
    "                              size = 100, #20\n",
    "                              objective= objective,\n",
    "                              output_filename= \"training_output.csv\",\n",
    "                              opponents= players,\n",
    "                              bottleneck= 5, #2\n",
    "                              mutation_probability= 0.1, #0.1\n",
    "                              print_output= False)"
   ]
  },
  {
   "cell_type": "code",
   "execution_count": 37,
   "metadata": {
    "ExecuteTime": {
     "end_time": "2019-04-10T23:22:13.070106Z",
     "start_time": "2019-04-10T23:22:09.167714Z"
    },
    "scrolled": true
   },
   "outputs": [
    {
     "name": "stdout",
     "output_type": "stream",
     "text": [
      "Scoring Generation 1\n",
      "     → Mean score: 2.21, Root variance: 0.19\n",
      "     Generation  1 |  Best Score:  2.600000 State: 0:C:0_C_0_D:0_D_1_D:1_C_0_D:1_D_0_C\n",
      "     Generation  1 | Worst Score:  1.650000 State: 0:C:0_C_1_C:0_D_0_C:1_C_0_D:1_D_0_C\n",
      "Scoring Generation 2\n",
      "     → Mean score: 2.36, Root variance: 0.161\n",
      "     Generation  2 |  Best Score:  2.633333 State: 0:C:0_C_0_C:0_D_1_D:1_C_0_D:1_D_1_D\n",
      "     Generation  2 | Worst Score:  1.916667 State: 0:C:0_C_1_C:0_D_1_D:1_C_0_D:1_D_0_C\n",
      "Scoring Generation 3\n",
      "     → Mean score: 2.39, Root variance: 0.148\n",
      "     Generation  3 |  Best Score:  2.683333 State: 0:C:0_C_0_D:0_D_0_D:1_C_0_D:1_D_0_C\n",
      "     Generation  3 | Worst Score:  1.850000 State: 0:C:0_C_0_D:0_D_0_C:1_C_1_C:1_D_1_D\n",
      "Scoring Generation 4\n",
      "     → Mean score: 2.4, Root variance: 0.133\n",
      "     Generation  4 |  Best Score:  2.716667 State: 0:C:0_C_0_C:0_D_1_D:1_C_1_D:1_D_1_D\n",
      "     Generation  4 | Worst Score:  1.983333 State: 0:C:0_C_0_D:0_D_0_C:1_C_0_D:1_D_1_D\n",
      "Scoring Generation 5\n",
      "     → Mean score: 2.46, Root variance: 0.192\n",
      "     Generation  5 |  Best Score:  2.850000 State: 0:C:0_C_0_C:0_D_1_D:1_C_1_D:1_D_1_D\n",
      "     Generation  5 | Worst Score:  1.900000 State: 0:C:0_C_0_C:0_D_0_C:1_C_1_D:1_D_0_D\n",
      "Scoring Generation 6\n",
      "     → Mean score: 2.44, Root variance: 0.153\n",
      "     Generation  6 |  Best Score:  2.716667 State: 0:C:0_C_0_C:0_D_1_D:1_C_1_D:1_D_1_D\n",
      "     Generation  6 | Worst Score:  2.033333 State: 0:C:0_C_0_C:0_D_1_D:1_C_0_C:1_D_1_C\n",
      "Scoring Generation 7\n",
      "     → Mean score: 2.43, Root variance: 0.12\n",
      "     Generation  7 |  Best Score:  2.716667 State: 0:C:0_C_0_C:0_D_1_D:1_C_1_D:1_D_1_D\n",
      "     Generation  7 | Worst Score:  2.133333 State: 0:C:0_C_0_D:0_D_1_C:1_C_0_D:1_D_1_D\n",
      "Scoring Generation 8\n",
      "     → Mean score: 2.43, Root variance: 0.158\n",
      "     Generation  8 |  Best Score:  2.783333 State: 0:C:0_C_0_C:0_D_1_D:1_C_1_D:1_D_1_D\n",
      "     Generation  8 | Worst Score:  2.000000 State: 0:C:0_C_1_D:0_D_0_C:1_C_0_D:1_D_0_D\n",
      "Scoring Generation 9\n",
      "     → Mean score: 2.45, Root variance: 0.15\n",
      "     Generation  9 |  Best Score:  2.783333 State: 0:C:0_C_0_C:0_D_1_D:1_C_1_D:1_D_1_D\n",
      "     Generation  9 | Worst Score:  1.983333 State: 0:C:0_C_1_D:0_D_1_D:1_C_1_C:1_D_0_C\n",
      "Scoring Generation 10\n",
      "     → Mean score: 2.44, Root variance: 0.155\n",
      "     Generation  10 |  Best Score:  2.783333 State: 0:C:0_C_0_C:0_D_1_D:1_C_1_D:1_D_1_D\n",
      "     Generation  10 | Worst Score:  1.800000 State: 0:C:0_C_1_D:0_D_1_C:1_C_0_C:1_D_1_C\n"
     ]
    }
   ],
   "source": [
    "generations = 10 #10\n",
    "results = population.run(generations)"
   ]
  },
  {
   "cell_type": "code",
   "execution_count": null,
   "metadata": {},
   "outputs": [],
   "source": []
  }
 ],
 "metadata": {
  "kernelspec": {
   "display_name": "Python 3",
   "language": "python",
   "name": "python3"
  },
  "toc": {
   "base_numbering": 1,
   "nav_menu": {},
   "number_sections": true,
   "sideBar": true,
   "skip_h1_title": false,
   "title_cell": "Table of Contents",
   "title_sidebar": "Contents",
   "toc_cell": false,
   "toc_position": {
    "height": "calc(100% - 180px)",
    "left": "10px",
    "top": "150px",
    "width": "270.796875px"
   },
   "toc_section_display": true,
   "toc_window_display": false
  },
  "varInspector": {
   "cols": {
    "lenName": 16,
    "lenType": 16,
    "lenVar": 40
   },
   "kernels_config": {
    "python": {
     "delete_cmd_postfix": "",
     "delete_cmd_prefix": "del ",
     "library": "var_list.py",
     "varRefreshCmd": "print(var_dic_list())"
    },
    "r": {
     "delete_cmd_postfix": ") ",
     "delete_cmd_prefix": "rm(",
     "library": "var_list.r",
     "varRefreshCmd": "cat(var_dic_list()) "
    }
   },
   "types_to_exclude": [
    "module",
    "function",
    "builtin_function_or_method",
    "instance",
    "_Feature"
   ],
   "window_display": false
  }
 },
 "nbformat": 4,
 "nbformat_minor": 2
}
